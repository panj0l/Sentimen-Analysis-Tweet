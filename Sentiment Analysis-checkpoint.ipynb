{
 "cells": [
  {
   "cell_type": "code",
   "execution_count": null,
   "metadata": {
    "id": "xGVErB0w09PC"
   },
   "outputs": [],
   "source": []
  },
  {
   "cell_type": "markdown",
   "metadata": {
    "id": "JbBliNZGJpPn"
   },
   "source": [
    "# About This Project\n",
    "\n",
    "\n",
    "project ini merupakan final project dari matakuliah pengenalan pola.\n",
    "\n",
    "project ini mengambil tema text classification \n",
    "\n",
    "tema projek ini adalah sentimen analisis twitter mengenai COVID-19 di indonesia\n",
    "\n",
    "paper rujukan yang akan dijadikan baseline pada projek ini adalah paper dari **Prastyo dkk (2020)**\n",
    "\n",
    "[link to paper](https://e-journal.unair.ac.id/JISEBI/article/view/19624)"
   ]
  },
  {
   "cell_type": "markdown",
   "metadata": {
    "id": "UCtuqDEEK41h"
   },
   "source": [
    "## Rangkuman Paper Prastyo dkk (2020)\n",
    "\n",
    "pada penelitianya :\n",
    "\n",
    "1. Task\n",
    "    - Multiclass Classification (positive, negative, dan neutral)\n",
    "    - Binary Class (positive dan negative)\n",
    "\n",
    "2. Dataset\n",
    "    - tweet mengenai covid-19 di indonesia\n",
    "\n",
    "3. Metodology\n",
    "    - Preprocessing:\n",
    "        - casefolding\n",
    "        - filtering (*username, urls, picture, symbols, special char, punctuation*)\n",
    "        - tokenization\n",
    "        - stopword removal (*stopword dari library sastrawi*)\n",
    "    - Feature: \n",
    "        - TFIDF\n",
    "    - Classifier:\n",
    "        - Multinomial NB\n",
    "        - SVM dengan normalized poly kernel\n",
    "    - Evaluasi:\n",
    "        - 10k cross validation\n",
    "    - Metric:\n",
    "        - akurasi\n",
    "        - precision\n",
    "        - recall\n",
    "        - f-measure\n",
    "\n",
    "4. Result\n",
    "    - hasil terbaik pada binary classification pada metode svm normalized poly kernel dengan rata-rata:\n",
    "        - akurasi : 82%\n",
    "        - precision : 82.24%\n",
    "        - recall : 82.01%\n",
    "        - f-measure : 81.84%\n",
    "\n"
   ]
  },
  {
   "cell_type": "code",
   "execution_count": null,
   "metadata": {
    "colab": {
     "base_uri": "https://localhost:8080/"
    },
    "id": "NPoPv9YUYhY-",
    "outputId": "f77ca0ee-5f80-4e35-a174-f20dd579700b"
   },
   "outputs": [
    {
     "name": "stdout",
     "output_type": "stream",
     "text": [
      "Collecting sastrawi\n",
      "\u001b[?25l  Downloading https://files.pythonhosted.org/packages/6f/4b/bab676953da3103003730b8fcdfadbdd20f333d4add10af949dd5c51e6ed/Sastrawi-1.0.1-py2.py3-none-any.whl (209kB)\n",
      "\r",
      "\u001b[K     |█▋                              | 10kB 17.5MB/s eta 0:00:01\r",
      "\u001b[K     |███▏                            | 20kB 10.3MB/s eta 0:00:01\r",
      "\u001b[K     |████▊                           | 30kB 7.9MB/s eta 0:00:01\r",
      "\u001b[K     |██████▎                         | 40kB 7.1MB/s eta 0:00:01\r",
      "\u001b[K     |███████▉                        | 51kB 4.3MB/s eta 0:00:01\r",
      "\u001b[K     |█████████▍                      | 61kB 4.8MB/s eta 0:00:01\r",
      "\u001b[K     |███████████                     | 71kB 4.8MB/s eta 0:00:01\r",
      "\u001b[K     |████████████▌                   | 81kB 5.1MB/s eta 0:00:01\r",
      "\u001b[K     |██████████████                  | 92kB 5.4MB/s eta 0:00:01\r",
      "\u001b[K     |███████████████▋                | 102kB 5.4MB/s eta 0:00:01\r",
      "\u001b[K     |█████████████████▏              | 112kB 5.4MB/s eta 0:00:01\r",
      "\u001b[K     |██████████████████▊             | 122kB 5.4MB/s eta 0:00:01\r",
      "\u001b[K     |████████████████████▎           | 133kB 5.4MB/s eta 0:00:01\r",
      "\u001b[K     |█████████████████████▉          | 143kB 5.4MB/s eta 0:00:01\r",
      "\u001b[K     |███████████████████████▍        | 153kB 5.4MB/s eta 0:00:01\r",
      "\u001b[K     |█████████████████████████       | 163kB 5.4MB/s eta 0:00:01\r",
      "\u001b[K     |██████████████████████████▋     | 174kB 5.4MB/s eta 0:00:01\r",
      "\u001b[K     |████████████████████████████▏   | 184kB 5.4MB/s eta 0:00:01\r",
      "\u001b[K     |█████████████████████████████▊  | 194kB 5.4MB/s eta 0:00:01\r",
      "\u001b[K     |███████████████████████████████▎| 204kB 5.4MB/s eta 0:00:01\r",
      "\u001b[K     |████████████████████████████████| 215kB 5.4MB/s \n",
      "\u001b[?25hInstalling collected packages: sastrawi\n",
      "Successfully installed sastrawi-1.0.1\n",
      "Collecting neattext\n",
      "\u001b[?25l  Downloading https://files.pythonhosted.org/packages/ea/ff/382b0c8705034f97088c13567403a5609714bb639b98a73f841193bb49e0/neattext-0.0.9-py3-none-any.whl (85kB)\n",
      "\u001b[K     |████████████████████████████████| 92kB 4.0MB/s \n",
      "\u001b[?25hInstalling collected packages: neattext\n",
      "Successfully installed neattext-0.0.9\n"
     ]
    }
   ],
   "source": [
    "!pip install sastrawi\n",
    "!pip install neattext"
   ]
  },
  {
   "cell_type": "code",
   "execution_count": null,
   "metadata": {
    "id": "Gk4703wWqbbg"
   },
   "outputs": [],
   "source": [
    "# tutorial\n",
    "# https://towardsdatascience.com/text-classification-with-nlp-tf-idf-vs-word2vec-vs-bert-41ff868d1794\n",
    "\n",
    "# import libraries\n",
    "import re\n",
    "import math\n",
    "import pandas as pd\n",
    "import numpy as np\n",
    "from Sastrawi.Stemmer.StemmerFactory import StemmerFactory\n",
    "from collections import Counter\n",
    "from nltk.corpus import stopwords\n",
    "from Sastrawi.StopWordRemover.StopWordRemoverFactory import StopWordRemoverFactory\n",
    "import neattext as nt\n",
    "import neattext.functions as nfx\n",
    "import matplotlib.pyplot as plt\n",
    "from sklearn.preprocessing import LabelEncoder\n",
    "from sklearn.feature_extraction.text import TfidfVectorizer, CountVectorizer, TfidfTransformer\n",
    "from sklearn import model_selection\n",
    "from sklearn.model_selection import GridSearchCV\n",
    "from sklearn.svm import SVC\n",
    "from sklearn.naive_bayes import MultinomialNB\n",
    "from sklearn.ensemble import RandomForestClassifier\n",
    "from sklearn.linear_model import SGDClassifier\n",
    "\n",
    "from sklearn.metrics import accuracy_score, precision_score, recall_score, f1_score\n",
    "from sklearn.metrics import plot_confusion_matrix\n"
   ]
  },
  {
   "cell_type": "code",
   "execution_count": null,
   "metadata": {
    "colab": {
     "base_uri": "https://localhost:8080/"
    },
    "id": "aaxDhDGDxhx1",
    "outputId": "69451c24-e623-41f9-d382-ef44f6e404f3"
   },
   "outputs": [
    {
     "name": "stdout",
     "output_type": "stream",
     "text": [
      "Mounted at /content/drive\n",
      "[nltk_data] Downloading package stopwords to /root/nltk_data...\n",
      "[nltk_data]   Unzipping corpora/stopwords.zip.\n"
     ]
    },
    {
     "data": {
      "text/plain": [
       "True"
      ]
     },
     "execution_count": 3,
     "metadata": {
      "tags": []
     },
     "output_type": "execute_result"
    }
   ],
   "source": [
    "from google.colab import drive\n",
    "drive.mount('/content/drive')\n",
    "\n",
    "import nltk\n",
    "nltk.download('stopwords')"
   ]
  },
  {
   "cell_type": "markdown",
   "metadata": {
    "id": "Vpc2kWKfqhMj"
   },
   "source": [
    "# Load Dataset"
   ]
  },
  {
   "cell_type": "code",
   "execution_count": null,
   "metadata": {
    "id": "SpwqBvogY7qS"
   },
   "outputs": [],
   "source": [
    "df = pd.read_excel('/content/drive/My Drive/dataset/sentiment-covid.xlsx')\n",
    "df_alay = pd.read_csv('/content/drive/My Drive/dataset/new_kamusalay.csv', encoding='latin-1', header=None)\n",
    "\n",
    "df_alay = df_alay.rename(columns={0: 'original', 1: 'replacement'})"
   ]
  },
  {
   "cell_type": "code",
   "execution_count": null,
   "metadata": {
    "colab": {
     "base_uri": "https://localhost:8080/",
     "height": 419
    },
    "id": "w-gOvrl4ZjBp",
    "outputId": "3b596969-910f-4758-9bf9-c97234c65100"
   },
   "outputs": [
    {
     "data": {
      "text/html": [
       "<div>\n",
       "<style scoped>\n",
       "    .dataframe tbody tr th:only-of-type {\n",
       "        vertical-align: middle;\n",
       "    }\n",
       "\n",
       "    .dataframe tbody tr th {\n",
       "        vertical-align: top;\n",
       "    }\n",
       "\n",
       "    .dataframe thead th {\n",
       "        text-align: right;\n",
       "    }\n",
       "</style>\n",
       "<table border=\"1\" class=\"dataframe\">\n",
       "  <thead>\n",
       "    <tr style=\"text-align: right;\">\n",
       "      <th></th>\n",
       "      <th>text</th>\n",
       "      <th>sentiment</th>\n",
       "    </tr>\n",
       "  </thead>\n",
       "  <tbody>\n",
       "    <tr>\n",
       "      <th>0</th>\n",
       "      <td>Yuppp Karena UTANG Pemerintah jg UTANG Bangsa ...</td>\n",
       "      <td>Negative</td>\n",
       "    </tr>\n",
       "    <tr>\n",
       "      <th>1</th>\n",
       "      <td>Yuks.. kawal kebijakan pemerintah jangan sampa...</td>\n",
       "      <td>Positive</td>\n",
       "    </tr>\n",
       "    <tr>\n",
       "      <th>2</th>\n",
       "      <td>Yukk sama-sama bahu membahu membantuu pemerint...</td>\n",
       "      <td>Positive</td>\n",
       "    </tr>\n",
       "    <tr>\n",
       "      <th>3</th>\n",
       "      <td>Yuk sahabat kita samasama menjaga jarak antar ...</td>\n",
       "      <td>Positive</td>\n",
       "    </tr>\n",
       "    <tr>\n",
       "      <th>4</th>\n",
       "      <td>Yuk sahabat kita sama sama menjaga jarak antar...</td>\n",
       "      <td>Positive</td>\n",
       "    </tr>\n",
       "    <tr>\n",
       "      <th>...</th>\n",
       "      <td>...</td>\n",
       "      <td>...</td>\n",
       "    </tr>\n",
       "    <tr>\n",
       "      <th>2264</th>\n",
       "      <td>Semoga KTT luar biasa memberikan manfaat bg In...</td>\n",
       "      <td>Neutral</td>\n",
       "    </tr>\n",
       "    <tr>\n",
       "      <th>2265</th>\n",
       "      <td>1. Corona sudah menyerang di berbagai negara, ...</td>\n",
       "      <td>Negative</td>\n",
       "    </tr>\n",
       "    <tr>\n",
       "      <th>2266</th>\n",
       "      <td>Sudah sampai kabupaten sebelah kawan...\\nMari ...</td>\n",
       "      <td>Positive</td>\n",
       "    </tr>\n",
       "    <tr>\n",
       "      <th>2267</th>\n",
       "      <td>Berharap pemerintah Indonesia segara menutup p...</td>\n",
       "      <td>Neutral</td>\n",
       "    </tr>\n",
       "    <tr>\n",
       "      <th>2268</th>\n",
       "      <td>Apapun agama dan kepercayaanmu, sblum tidur, y...</td>\n",
       "      <td>Positive</td>\n",
       "    </tr>\n",
       "  </tbody>\n",
       "</table>\n",
       "<p>2269 rows × 2 columns</p>\n",
       "</div>"
      ],
      "text/plain": [
       "                                                   text sentiment\n",
       "0     Yuppp Karena UTANG Pemerintah jg UTANG Bangsa ...  Negative\n",
       "1     Yuks.. kawal kebijakan pemerintah jangan sampa...  Positive\n",
       "2     Yukk sama-sama bahu membahu membantuu pemerint...  Positive\n",
       "3     Yuk sahabat kita samasama menjaga jarak antar ...  Positive\n",
       "4     Yuk sahabat kita sama sama menjaga jarak antar...  Positive\n",
       "...                                                 ...       ...\n",
       "2264  Semoga KTT luar biasa memberikan manfaat bg In...   Neutral\n",
       "2265  1. Corona sudah menyerang di berbagai negara, ...  Negative\n",
       "2266  Sudah sampai kabupaten sebelah kawan...\\nMari ...  Positive\n",
       "2267  Berharap pemerintah Indonesia segara menutup p...   Neutral\n",
       "2268  Apapun agama dan kepercayaanmu, sblum tidur, y...  Positive\n",
       "\n",
       "[2269 rows x 2 columns]"
      ]
     },
     "execution_count": 5,
     "metadata": {
      "tags": []
     },
     "output_type": "execute_result"
    }
   ],
   "source": [
    "df = df[['text','sentiment']]\n",
    "df"
   ]
  },
  {
   "cell_type": "code",
   "execution_count": null,
   "metadata": {
    "colab": {
     "base_uri": "https://localhost:8080/",
     "height": 419
    },
    "id": "8mhub8GgZtRD",
    "outputId": "e04133b1-ef0d-4b94-b122-be12a8e106c7"
   },
   "outputs": [
    {
     "data": {
      "text/html": [
       "<div>\n",
       "<style scoped>\n",
       "    .dataframe tbody tr th:only-of-type {\n",
       "        vertical-align: middle;\n",
       "    }\n",
       "\n",
       "    .dataframe tbody tr th {\n",
       "        vertical-align: top;\n",
       "    }\n",
       "\n",
       "    .dataframe thead th {\n",
       "        text-align: right;\n",
       "    }\n",
       "</style>\n",
       "<table border=\"1\" class=\"dataframe\">\n",
       "  <thead>\n",
       "    <tr style=\"text-align: right;\">\n",
       "      <th></th>\n",
       "      <th>original</th>\n",
       "      <th>replacement</th>\n",
       "    </tr>\n",
       "  </thead>\n",
       "  <tbody>\n",
       "    <tr>\n",
       "      <th>0</th>\n",
       "      <td>anakjakartaasikasik</td>\n",
       "      <td>anak jakarta asyik asyik</td>\n",
       "    </tr>\n",
       "    <tr>\n",
       "      <th>1</th>\n",
       "      <td>pakcikdahtua</td>\n",
       "      <td>pak cik sudah tua</td>\n",
       "    </tr>\n",
       "    <tr>\n",
       "      <th>2</th>\n",
       "      <td>pakcikmudalagi</td>\n",
       "      <td>pak cik muda lagi</td>\n",
       "    </tr>\n",
       "    <tr>\n",
       "      <th>3</th>\n",
       "      <td>t3tapjokowi</td>\n",
       "      <td>tetap jokowi</td>\n",
       "    </tr>\n",
       "    <tr>\n",
       "      <th>4</th>\n",
       "      <td>3x</td>\n",
       "      <td>tiga kali</td>\n",
       "    </tr>\n",
       "    <tr>\n",
       "      <th>...</th>\n",
       "      <td>...</td>\n",
       "      <td>...</td>\n",
       "    </tr>\n",
       "    <tr>\n",
       "      <th>15172</th>\n",
       "      <td>lg</td>\n",
       "      <td>lagi</td>\n",
       "    </tr>\n",
       "    <tr>\n",
       "      <th>15173</th>\n",
       "      <td>dongg</td>\n",
       "      <td>dong</td>\n",
       "    </tr>\n",
       "    <tr>\n",
       "      <th>15174</th>\n",
       "      <td>yaa</td>\n",
       "      <td>ya</td>\n",
       "    </tr>\n",
       "    <tr>\n",
       "      <th>15175</th>\n",
       "      <td>knp2</td>\n",
       "      <td>kenapa-kenapa</td>\n",
       "    </tr>\n",
       "    <tr>\n",
       "      <th>15176</th>\n",
       "      <td>bla</td>\n",
       "      <td>bila</td>\n",
       "    </tr>\n",
       "  </tbody>\n",
       "</table>\n",
       "<p>15177 rows × 2 columns</p>\n",
       "</div>"
      ],
      "text/plain": [
       "                  original               replacement\n",
       "0      anakjakartaasikasik  anak jakarta asyik asyik\n",
       "1             pakcikdahtua         pak cik sudah tua\n",
       "2           pakcikmudalagi         pak cik muda lagi\n",
       "3              t3tapjokowi              tetap jokowi\n",
       "4                       3x                 tiga kali\n",
       "...                    ...                       ...\n",
       "15172                   lg                      lagi\n",
       "15173                dongg                      dong\n",
       "15174                  yaa                        ya\n",
       "15175                 knp2             kenapa-kenapa\n",
       "15176                  bla                      bila\n",
       "\n",
       "[15177 rows x 2 columns]"
      ]
     },
     "execution_count": 6,
     "metadata": {
      "tags": []
     },
     "output_type": "execute_result"
    }
   ],
   "source": [
    "df_alay"
   ]
  },
  {
   "cell_type": "markdown",
   "metadata": {
    "id": "LMEW0Q_4rg6n"
   },
   "source": [
    "# Quick EDA"
   ]
  },
  {
   "cell_type": "markdown",
   "metadata": {
    "id": "jb6ItqSYZyDD"
   },
   "source": [
    "cek apakah ada data yang missing"
   ]
  },
  {
   "cell_type": "code",
   "execution_count": null,
   "metadata": {
    "colab": {
     "base_uri": "https://localhost:8080/"
    },
    "id": "5yBc02e9Z5YI",
    "outputId": "3b2c87cd-11c1-4467-8f05-4da162684046"
   },
   "outputs": [
    {
     "data": {
      "text/plain": [
       "text         0\n",
       "sentiment    0\n",
       "dtype: int64"
      ]
     },
     "execution_count": 7,
     "metadata": {
      "tags": []
     },
     "output_type": "execute_result"
    }
   ],
   "source": [
    "df.isnull().sum()"
   ]
  },
  {
   "cell_type": "markdown",
   "metadata": {
    "id": "R8R3v55LaEOR"
   },
   "source": [
    "plot data dalam bentuk bar"
   ]
  },
  {
   "cell_type": "code",
   "execution_count": null,
   "metadata": {
    "colab": {
     "base_uri": "https://localhost:8080/",
     "height": 317
    },
    "id": "MxVdEBOWaH35",
    "outputId": "879afae9-e3a8-461d-e975-d66efed9f4f8"
   },
   "outputs": [
    {
     "data": {
      "text/plain": [
       "<matplotlib.axes._subplots.AxesSubplot at 0x7f5c6f7656a0>"
      ]
     },
     "execution_count": 8,
     "metadata": {
      "tags": []
     },
     "output_type": "execute_result"
    },
    {
     "data": {
      "image/png": "[encoded data removed]",
      "text/plain": [
       "<Figure size 432x288 with 1 Axes>"
      ]
     },
     "metadata": {
      "needs_background": "light",
      "tags": []
     },
     "output_type": "display_data"
    }
   ],
   "source": [
    "df.sentiment.value_counts().plot.bar()"
   ]
  },
  {
   "cell_type": "markdown",
   "metadata": {
    "id": "CxM4fhttaSbp"
   },
   "source": [
    "lihat rasio data dalam pie"
   ]
  },
  {
   "cell_type": "code",
   "execution_count": null,
   "metadata": {
    "colab": {
     "base_uri": "https://localhost:8080/",
     "height": 265
    },
    "id": "0KkpRr7ZaY8I",
    "outputId": "460079ba-b415-401a-87f1-1e999fc62717"
   },
   "outputs": [
    {
     "data": {
      "text/plain": [
       "<matplotlib.axes._subplots.AxesSubplot at 0x7f5c6efd7320>"
      ]
     },
     "execution_count": 9,
     "metadata": {
      "tags": []
     },
     "output_type": "execute_result"
    },
    {
     "data": {
      "image/png": "[encoded data removed]",
      "text/plain": [
       "<Figure size 432x288 with 1 Axes>"
      ]
     },
     "metadata": {
      "tags": []
     },
     "output_type": "display_data"
    }
   ],
   "source": [
    "df.sentiment.value_counts().plot.pie()"
   ]
  },
  {
   "cell_type": "code",
   "execution_count": null,
   "metadata": {
    "id": "aFy5jdqvantN"
   },
   "outputs": [],
   "source": [
    "factory = StemmerFactory()\n",
    "stemmer = factory.create_stemmer()\n",
    "\n",
    "# preprocessing function\n",
    "def prepro(text, stem=True, alay_norm=True, stopword_ori=False):\n",
    "    # lowecase\n",
    "    text = text.lower()\n",
    "\n",
    "    if alay_norm:\n",
    "        # normalisasi kata alay\n",
    "        alay_dict_map = dict(zip(df_alay['original'], df_alay['replacement']))\n",
    "        text = ' '.join([alay_dict_map[word] if word in alay_dict_map else word for word in text.split(' ')])\n",
    "\n",
    "    # remove username\n",
    "    text = nfx.remove_userhandles(text)\n",
    "    # remove hastagh\n",
    "    text = nfx.remove_hashtags(text)\n",
    "    # remove url\n",
    "    text = nfx.remove_urls(text)\n",
    "    # remove spesial char\n",
    "    text = nfx.remove_special_characters(text)\n",
    "    # remove multiple space\n",
    "    text = nfx.remove_multiple_spaces(text)\n",
    "    \n",
    "    # remove stopwords indonesia dan english\n",
    "    # extend stopword indonesia\n",
    "    a = StopWordRemoverFactory()\n",
    "    if stopword_ori:\n",
    "        indo_stop = a.get_stop_words()\n",
    "        text = ' '.join(['' if word in indo_stop else word for word in text.split(' ')])\n",
    "    else:\n",
    "        indo_stop = a.get_stop_words() + ['yup','yuk','nya','ya','iya','ayo','yok','ber','nih','mah','kah','sih','dong','woy','woi','cok','bro','wow']\n",
    "        eng_stop = stopwords.words('english')\n",
    "        text = ' '.join(['' if word in indo_stop else word for word in text.split(' ')])\n",
    "        text = ' '.join(['' if word in eng_stop else word for word in text.split(' ')])\n",
    "    text = text.strip()\n",
    "\n",
    "    if stem:\n",
    "        #stemming \n",
    "        text = stemmer.stem(text)\n",
    "    \n",
    "    return text"
   ]
  },
  {
   "cell_type": "code",
   "execution_count": null,
   "metadata": {
    "id": "h3ubXHQhcxCe"
   },
   "outputs": [],
   "source": [
    "# cek counter \n",
    "def word_counter(text):\n",
    "    count = Counter()\n",
    "    for t in text.values:\n",
    "        for word in t.split():\n",
    "            count[word] += 1\n",
    "    return count"
   ]
  },
  {
   "cell_type": "markdown",
   "metadata": {
    "id": "xRQk3IMZOCpm"
   },
   "source": [
    "# Our Approach\n",
    "\n",
    "\n",
    "pendekatan yang kami lakukan:\n",
    "1. dari dataset yang telah didapatkan, dilakukan split dengan rasio 70:30\n",
    "2. preprocessing\n",
    "\n",
    "    - casefolding\n",
    "    - normalized slang word / kamus alay\n",
    "    - tokenization\n",
    "    - stopword removal\n",
    "    - stemming\n",
    "\n",
    "3. feature extraction\n",
    "\n",
    "    - BOW Classic (count vectorizer)\n",
    "    - BOW + TFIDF\n",
    "\n",
    "4. classifier\n",
    "\n",
    "    - MultinomialNB\n",
    "    - SVM\n",
    "    - SGD\n",
    "    - Random Forest\n",
    "\n",
    "5. 10 K-fold validation pada data training\n",
    "\n",
    "    - evaluasi\n",
    "        - akurasi\n",
    "\n",
    "6. Hyperparameter Tuninng Classifier\n",
    "7. Evaluasi data test\n",
    "    - evaluasi\n",
    "        - akurasi"
   ]
  },
  {
   "cell_type": "markdown",
   "metadata": {
    "id": "WlvIc6cu4fr6"
   },
   "source": [
    "## Prepare Dataset"
   ]
  },
  {
   "cell_type": "code",
   "execution_count": null,
   "metadata": {
    "id": "McP9BdYG4jwn"
   },
   "outputs": [],
   "source": [
    "def generate_df(dataframe, binary=True):\n",
    "    \n",
    "    data = dataframe.copy()\n",
    "\n",
    "    if binary:\n",
    "        biner = data.loc[data.sentiment != 'Neutral'] \n",
    "        return biner.reset_index(drop=True)\n",
    "    return data\n"
   ]
  },
  {
   "cell_type": "code",
   "execution_count": null,
   "metadata": {
    "id": "B5bioo3n6giO"
   },
   "outputs": [],
   "source": [
    "dfku = generate_df(df)"
   ]
  },
  {
   "cell_type": "code",
   "execution_count": null,
   "metadata": {
    "colab": {
     "base_uri": "https://localhost:8080/",
     "height": 419
    },
    "id": "2a0YQnF_7AEF",
    "outputId": "22c3e3ee-4c19-4722-e110-4cfb1c3d844c"
   },
   "outputs": [
    {
     "data": {
      "text/html": [
       "<div>\n",
       "<style scoped>\n",
       "    .dataframe tbody tr th:only-of-type {\n",
       "        vertical-align: middle;\n",
       "    }\n",
       "\n",
       "    .dataframe tbody tr th {\n",
       "        vertical-align: top;\n",
       "    }\n",
       "\n",
       "    .dataframe thead th {\n",
       "        text-align: right;\n",
       "    }\n",
       "</style>\n",
       "<table border=\"1\" class=\"dataframe\">\n",
       "  <thead>\n",
       "    <tr style=\"text-align: right;\">\n",
       "      <th></th>\n",
       "      <th>text</th>\n",
       "      <th>sentiment</th>\n",
       "    </tr>\n",
       "  </thead>\n",
       "  <tbody>\n",
       "    <tr>\n",
       "      <th>0</th>\n",
       "      <td>Yuppp Karena UTANG Pemerintah jg UTANG Bangsa ...</td>\n",
       "      <td>Negative</td>\n",
       "    </tr>\n",
       "    <tr>\n",
       "      <th>1</th>\n",
       "      <td>Yuks.. kawal kebijakan pemerintah jangan sampa...</td>\n",
       "      <td>Positive</td>\n",
       "    </tr>\n",
       "    <tr>\n",
       "      <th>2</th>\n",
       "      <td>Yukk sama-sama bahu membahu membantuu pemerint...</td>\n",
       "      <td>Positive</td>\n",
       "    </tr>\n",
       "    <tr>\n",
       "      <th>3</th>\n",
       "      <td>Yuk sahabat kita samasama menjaga jarak antar ...</td>\n",
       "      <td>Positive</td>\n",
       "    </tr>\n",
       "    <tr>\n",
       "      <th>4</th>\n",
       "      <td>Yuk sahabat kita sama sama menjaga jarak antar...</td>\n",
       "      <td>Positive</td>\n",
       "    </tr>\n",
       "    <tr>\n",
       "      <th>...</th>\n",
       "      <td>...</td>\n",
       "      <td>...</td>\n",
       "    </tr>\n",
       "    <tr>\n",
       "      <th>1913</th>\n",
       "      <td>Pemerintah Pusat tetap konsisten melawan Coron...</td>\n",
       "      <td>Positive</td>\n",
       "    </tr>\n",
       "    <tr>\n",
       "      <th>1914</th>\n",
       "      <td>Salut sama bapak president walaupun masih suas...</td>\n",
       "      <td>Positive</td>\n",
       "    </tr>\n",
       "    <tr>\n",
       "      <th>1915</th>\n",
       "      <td>1. Corona sudah menyerang di berbagai negara, ...</td>\n",
       "      <td>Negative</td>\n",
       "    </tr>\n",
       "    <tr>\n",
       "      <th>1916</th>\n",
       "      <td>Sudah sampai kabupaten sebelah kawan...\\nMari ...</td>\n",
       "      <td>Positive</td>\n",
       "    </tr>\n",
       "    <tr>\n",
       "      <th>1917</th>\n",
       "      <td>Apapun agama dan kepercayaanmu, sblum tidur, y...</td>\n",
       "      <td>Positive</td>\n",
       "    </tr>\n",
       "  </tbody>\n",
       "</table>\n",
       "<p>1918 rows × 2 columns</p>\n",
       "</div>"
      ],
      "text/plain": [
       "                                                   text sentiment\n",
       "0     Yuppp Karena UTANG Pemerintah jg UTANG Bangsa ...  Negative\n",
       "1     Yuks.. kawal kebijakan pemerintah jangan sampa...  Positive\n",
       "2     Yukk sama-sama bahu membahu membantuu pemerint...  Positive\n",
       "3     Yuk sahabat kita samasama menjaga jarak antar ...  Positive\n",
       "4     Yuk sahabat kita sama sama menjaga jarak antar...  Positive\n",
       "...                                                 ...       ...\n",
       "1913  Pemerintah Pusat tetap konsisten melawan Coron...  Positive\n",
       "1914  Salut sama bapak president walaupun masih suas...  Positive\n",
       "1915  1. Corona sudah menyerang di berbagai negara, ...  Negative\n",
       "1916  Sudah sampai kabupaten sebelah kawan...\\nMari ...  Positive\n",
       "1917  Apapun agama dan kepercayaanmu, sblum tidur, y...  Positive\n",
       "\n",
       "[1918 rows x 2 columns]"
      ]
     },
     "execution_count": 14,
     "metadata": {
      "tags": []
     },
     "output_type": "execute_result"
    }
   ],
   "source": [
    "dfku"
   ]
  },
  {
   "cell_type": "markdown",
   "metadata": {
    "id": "PZ35oxuOOG2b"
   },
   "source": [
    "## Apply Preprocessing"
   ]
  },
  {
   "cell_type": "code",
   "execution_count": null,
   "metadata": {
    "colab": {
     "base_uri": "https://localhost:8080/",
     "height": 419
    },
    "id": "TXXa759MUPw-",
    "outputId": "bdd3f33d-c056-40c7-f73e-f7eb9dd56814"
   },
   "outputs": [
    {
     "data": {
      "text/html": [
       "<div>\n",
       "<style scoped>\n",
       "    .dataframe tbody tr th:only-of-type {\n",
       "        vertical-align: middle;\n",
       "    }\n",
       "\n",
       "    .dataframe tbody tr th {\n",
       "        vertical-align: top;\n",
       "    }\n",
       "\n",
       "    .dataframe thead th {\n",
       "        text-align: right;\n",
       "    }\n",
       "</style>\n",
       "<table border=\"1\" class=\"dataframe\">\n",
       "  <thead>\n",
       "    <tr style=\"text-align: right;\">\n",
       "      <th></th>\n",
       "      <th>text</th>\n",
       "      <th>sentiment</th>\n",
       "      <th>clean</th>\n",
       "    </tr>\n",
       "  </thead>\n",
       "  <tbody>\n",
       "    <tr>\n",
       "      <th>0</th>\n",
       "      <td>Yuppp Karena UTANG Pemerintah jg UTANG Bangsa ...</td>\n",
       "      <td>Negative</td>\n",
       "      <td>utang perintah utang bangsa indonesia arti hut...</td>\n",
       "    </tr>\n",
       "    <tr>\n",
       "      <th>1</th>\n",
       "      <td>Yuks.. kawal kebijakan pemerintah jangan sampa...</td>\n",
       "      <td>Positive</td>\n",
       "      <td>yuks kawal bijak perintah jangan salah guna ok...</td>\n",
       "    </tr>\n",
       "    <tr>\n",
       "      <th>2</th>\n",
       "      <td>Yukk sama-sama bahu membahu membantuu pemerint...</td>\n",
       "      <td>Positive</td>\n",
       "      <td>samasama bahu bahu membantuu perintah putus ra...</td>\n",
       "    </tr>\n",
       "    <tr>\n",
       "      <th>3</th>\n",
       "      <td>Yuk sahabat kita samasama menjaga jarak antar ...</td>\n",
       "      <td>Positive</td>\n",
       "      <td>sahabat samasama jaga jarak antar manusialebih...</td>\n",
       "    </tr>\n",
       "    <tr>\n",
       "      <th>4</th>\n",
       "      <td>Yuk sahabat kita sama sama menjaga jarak antar...</td>\n",
       "      <td>Positive</td>\n",
       "      <td>sahabat sama sama jaga jarak antar manusia leb...</td>\n",
       "    </tr>\n",
       "    <tr>\n",
       "      <th>...</th>\n",
       "      <td>...</td>\n",
       "      <td>...</td>\n",
       "      <td>...</td>\n",
       "    </tr>\n",
       "    <tr>\n",
       "      <th>1913</th>\n",
       "      <td>Pemerintah Pusat tetap konsisten melawan Coron...</td>\n",
       "      <td>Positive</td>\n",
       "      <td>perintah pusat tetap konsisten lawan corona vi...</td>\n",
       "    </tr>\n",
       "    <tr>\n",
       "      <th>1914</th>\n",
       "      <td>Salut sama bapak president walaupun masih suas...</td>\n",
       "      <td>Positive</td>\n",
       "      <td>salut sama bapak presiden walaupun suasana duk...</td>\n",
       "    </tr>\n",
       "    <tr>\n",
       "      <th>1915</th>\n",
       "      <td>1. Corona sudah menyerang di berbagai negara, ...</td>\n",
       "      <td>Negative</td>\n",
       "      <td>1 corona serang bagai negara perintah indonesi...</td>\n",
       "    </tr>\n",
       "    <tr>\n",
       "      <th>1916</th>\n",
       "      <td>Sudah sampai kabupaten sebelah kawan...\\nMari ...</td>\n",
       "      <td>Positive</td>\n",
       "      <td>kabupaten belah kawanmari terap sosial distanc...</td>\n",
       "    </tr>\n",
       "    <tr>\n",
       "      <th>1917</th>\n",
       "      <td>Apapun agama dan kepercayaanmu, sblum tidur, y...</td>\n",
       "      <td>Positive</td>\n",
       "      <td>apa agama percaya tidur doa prwatan covid19 na...</td>\n",
       "    </tr>\n",
       "  </tbody>\n",
       "</table>\n",
       "<p>1918 rows × 3 columns</p>\n",
       "</div>"
      ],
      "text/plain": [
       "                                                   text  ...                                              clean\n",
       "0     Yuppp Karena UTANG Pemerintah jg UTANG Bangsa ...  ...  utang perintah utang bangsa indonesia arti hut...\n",
       "1     Yuks.. kawal kebijakan pemerintah jangan sampa...  ...  yuks kawal bijak perintah jangan salah guna ok...\n",
       "2     Yukk sama-sama bahu membahu membantuu pemerint...  ...  samasama bahu bahu membantuu perintah putus ra...\n",
       "3     Yuk sahabat kita samasama menjaga jarak antar ...  ...  sahabat samasama jaga jarak antar manusialebih...\n",
       "4     Yuk sahabat kita sama sama menjaga jarak antar...  ...  sahabat sama sama jaga jarak antar manusia leb...\n",
       "...                                                 ...  ...                                                ...\n",
       "1913  Pemerintah Pusat tetap konsisten melawan Coron...  ...  perintah pusat tetap konsisten lawan corona vi...\n",
       "1914  Salut sama bapak president walaupun masih suas...  ...  salut sama bapak presiden walaupun suasana duk...\n",
       "1915  1. Corona sudah menyerang di berbagai negara, ...  ...  1 corona serang bagai negara perintah indonesi...\n",
       "1916  Sudah sampai kabupaten sebelah kawan...\\nMari ...  ...  kabupaten belah kawanmari terap sosial distanc...\n",
       "1917  Apapun agama dan kepercayaanmu, sblum tidur, y...  ...  apa agama percaya tidur doa prwatan covid19 na...\n",
       "\n",
       "[1918 rows x 3 columns]"
      ]
     },
     "execution_count": 17,
     "metadata": {
      "tags": []
     },
     "output_type": "execute_result"
    }
   ],
   "source": [
    "dfku['clean'] = dfku.text.apply(lambda x: prepro(x, stem=True, alay_norm=True, stopword_ori=False))\n",
    "dfku"
   ]
  },
  {
   "cell_type": "code",
   "execution_count": null,
   "metadata": {
    "colab": {
     "base_uri": "https://localhost:8080/",
     "height": 419
    },
    "id": "49V2f9AK7Zyj",
    "outputId": "7e249c7e-f7d0-480f-915a-ca84b5f2b266"
   },
   "outputs": [
    {
     "data": {
      "text/html": [
       "<div>\n",
       "<style scoped>\n",
       "    .dataframe tbody tr th:only-of-type {\n",
       "        vertical-align: middle;\n",
       "    }\n",
       "\n",
       "    .dataframe tbody tr th {\n",
       "        vertical-align: top;\n",
       "    }\n",
       "\n",
       "    .dataframe thead th {\n",
       "        text-align: right;\n",
       "    }\n",
       "</style>\n",
       "<table border=\"1\" class=\"dataframe\">\n",
       "  <thead>\n",
       "    <tr style=\"text-align: right;\">\n",
       "      <th></th>\n",
       "      <th>clean</th>\n",
       "      <th>label</th>\n",
       "    </tr>\n",
       "  </thead>\n",
       "  <tbody>\n",
       "    <tr>\n",
       "      <th>0</th>\n",
       "      <td>utang perintah utang bangsa indonesia arti hut...</td>\n",
       "      <td>0</td>\n",
       "    </tr>\n",
       "    <tr>\n",
       "      <th>1</th>\n",
       "      <td>yuks kawal bijak perintah jangan salah guna ok...</td>\n",
       "      <td>1</td>\n",
       "    </tr>\n",
       "    <tr>\n",
       "      <th>2</th>\n",
       "      <td>samasama bahu bahu membantuu perintah putus ra...</td>\n",
       "      <td>1</td>\n",
       "    </tr>\n",
       "    <tr>\n",
       "      <th>3</th>\n",
       "      <td>sahabat samasama jaga jarak antar manusialebih...</td>\n",
       "      <td>1</td>\n",
       "    </tr>\n",
       "    <tr>\n",
       "      <th>4</th>\n",
       "      <td>sahabat sama sama jaga jarak antar manusia leb...</td>\n",
       "      <td>1</td>\n",
       "    </tr>\n",
       "    <tr>\n",
       "      <th>...</th>\n",
       "      <td>...</td>\n",
       "      <td>...</td>\n",
       "    </tr>\n",
       "    <tr>\n",
       "      <th>1913</th>\n",
       "      <td>perintah pusat tetap konsisten lawan corona vi...</td>\n",
       "      <td>1</td>\n",
       "    </tr>\n",
       "    <tr>\n",
       "      <th>1914</th>\n",
       "      <td>salut sama bapak presiden walaupun suasana duk...</td>\n",
       "      <td>1</td>\n",
       "    </tr>\n",
       "    <tr>\n",
       "      <th>1915</th>\n",
       "      <td>1 corona serang bagai negara perintah indonesi...</td>\n",
       "      <td>0</td>\n",
       "    </tr>\n",
       "    <tr>\n",
       "      <th>1916</th>\n",
       "      <td>kabupaten belah kawanmari terap sosial distanc...</td>\n",
       "      <td>1</td>\n",
       "    </tr>\n",
       "    <tr>\n",
       "      <th>1917</th>\n",
       "      <td>apa agama percaya tidur doa prwatan covid19 na...</td>\n",
       "      <td>1</td>\n",
       "    </tr>\n",
       "  </tbody>\n",
       "</table>\n",
       "<p>1918 rows × 2 columns</p>\n",
       "</div>"
      ],
      "text/plain": [
       "                                                  clean  label\n",
       "0     utang perintah utang bangsa indonesia arti hut...      0\n",
       "1     yuks kawal bijak perintah jangan salah guna ok...      1\n",
       "2     samasama bahu bahu membantuu perintah putus ra...      1\n",
       "3     sahabat samasama jaga jarak antar manusialebih...      1\n",
       "4     sahabat sama sama jaga jarak antar manusia leb...      1\n",
       "...                                                 ...    ...\n",
       "1913  perintah pusat tetap konsisten lawan corona vi...      1\n",
       "1914  salut sama bapak presiden walaupun suasana duk...      1\n",
       "1915  1 corona serang bagai negara perintah indonesi...      0\n",
       "1916  kabupaten belah kawanmari terap sosial distanc...      1\n",
       "1917  apa agama percaya tidur doa prwatan covid19 na...      1\n",
       "\n",
       "[1918 rows x 2 columns]"
      ]
     },
     "execution_count": 18,
     "metadata": {
      "tags": []
     },
     "output_type": "execute_result"
    }
   ],
   "source": [
    "# apply label encoder\n",
    "le = LabelEncoder()\n",
    "dfku['label'] = le.fit_transform(dfku.sentiment.values)\n",
    "dfku[['clean','label']]"
   ]
  },
  {
   "cell_type": "markdown",
   "metadata": {
    "id": "cKVJP5qL-LMv"
   },
   "source": [
    "## Split Data For Training And Testing\n",
    "\n",
    "data training akan digunakan untuk training model dengan k-fold cross validation"
   ]
  },
  {
   "cell_type": "code",
   "execution_count": null,
   "metadata": {
    "id": "_hgw0TJ3-sHd"
   },
   "outputs": [],
   "source": [
    "X_train_temp, X_test, Y_train_temp, Y_test = model_selection.train_test_split(dfku['clean'], dfku['label'], test_size=0.3, random_state=42)"
   ]
  },
  {
   "cell_type": "code",
   "execution_count": null,
   "metadata": {
    "colab": {
     "base_uri": "https://localhost:8080/"
    },
    "id": "ilPa2rD6ejCD",
    "outputId": "583e56e4-43ae-4c72-b279-14c911c15e8f"
   },
   "outputs": [
    {
     "data": {
      "text/plain": [
       "(576,)"
      ]
     },
     "execution_count": 67,
     "metadata": {
      "tags": []
     },
     "output_type": "execute_result"
    }
   ],
   "source": [
    "Y_test.shape"
   ]
  },
  {
   "cell_type": "code",
   "execution_count": null,
   "metadata": {
    "id": "19lBUDeq_sTF"
   },
   "outputs": [],
   "source": [
    "# fungsi untuk mendapatkan score akurasi untuk model tertentu dengan cross validation pada data training\n",
    "\n",
    "def get_score_cv(model, x, y, cv):\n",
    "    score = model_selection.cross_validate(model, x, y, scoring=['accuracy'], cv=cv)\n",
    "    return {\n",
    "        'score' : score['test_accuracy'],\n",
    "        'mean': np.mean(score['test_accuracy'])\n",
    "    }"
   ]
  },
  {
   "cell_type": "code",
   "execution_count": null,
   "metadata": {
    "id": "8SivmTktRsRd"
   },
   "outputs": [],
   "source": [
    "# fungsi untuk mendapatkan score akurasi model dengan data testing\n",
    "\n",
    "def get_final_score(model, x_test, y_test, all_score = False):\n",
    "    pred = model.predict(x_test)\n",
    "    if all_score:\n",
    "        return {\n",
    "            'akurasi':accuracy_score(pred, y_test),\n",
    "            'precision':precision_score(pred, y_test),\n",
    "            'recall':recall_score(pred, y_test),\n",
    "            'f1':f1_score(pred, y_test)\n",
    "        }\n",
    "    return accuracy_score(pred, y_test)"
   ]
  },
  {
   "cell_type": "markdown",
   "metadata": {
    "id": "vjp5hEeittdr"
   },
   "source": [
    "## Skenario 1\n",
    "\n",
    "**full preprocessing dengan BOW-TF**\n"
   ]
  },
  {
   "cell_type": "markdown",
   "metadata": {
    "id": "DpxQYu7zw6Ka"
   },
   "source": [
    "### Count Vectorizer"
   ]
  },
  {
   "cell_type": "code",
   "execution_count": null,
   "metadata": {
    "id": "mUsNQvoG1b-i"
   },
   "outputs": [],
   "source": [
    "count_vec = CountVectorizer()\n",
    "count_vec.fit(dfku['clean'])\n",
    "\n",
    "X_train_temp_cvec = count_vec.transform(X_train_temp)\n",
    "X_test_cvec = count_vec.transform(X_test)"
   ]
  },
  {
   "cell_type": "markdown",
   "metadata": {
    "id": "cE3_xR2JxCAn"
   },
   "source": [
    "### Fit In Model"
   ]
  },
  {
   "cell_type": "code",
   "execution_count": null,
   "metadata": {
    "colab": {
     "base_uri": "https://localhost:8080/"
    },
    "id": "7EcUU3PR14tq",
    "outputId": "d588b040-bf88-4bb2-8bde-5a7fcf37f9a5"
   },
   "outputs": [
    {
     "name": "stdout",
     "output_type": "stream",
     "text": [
      "model \t\t:  MultinomialNB\n",
      "val score \t: [0.77037037 0.80740741 0.84328358 0.80597015 0.84328358 0.79850746\n",
      " 0.85820896 0.84328358 0.82835821 0.88059701]\n",
      "mean val sore \t: 0.8279270315091211\n",
      "\n",
      "\n",
      "model \t\t:  SVM\n",
      "val score \t: [0.82222222 0.77777778 0.8358209  0.82089552 0.85074627 0.79104478\n",
      " 0.82089552 0.79104478 0.78358209 0.8358209 ]\n",
      "mean val sore \t: 0.8129850746268656\n",
      "\n",
      "\n",
      "model \t\t:  SGD\n",
      "val score \t: [0.75555556 0.75555556 0.80597015 0.76865672 0.81343284 0.76119403\n",
      " 0.82835821 0.78358209 0.82089552 0.84328358]\n",
      "mean val sore \t: 0.7936484245439469\n",
      "\n",
      "\n",
      "model \t\t:  Random Forest\n",
      "val score \t: [0.82962963 0.77037037 0.82835821 0.80597015 0.85074627 0.79104478\n",
      " 0.79850746 0.80597015 0.78358209 0.81343284]\n",
      "mean val sore \t: 0.8077611940298507\n",
      "\n",
      "\n"
     ]
    }
   ],
   "source": [
    "kfold = 10\n",
    "\n",
    "model = [{'model_name':'MultinomialNB','instance': MultinomialNB()}, \n",
    "         {'model_name':'SVM', 'instance':SVC()},\n",
    "         {'model_name':'SGD', 'instance':SGDClassifier(class_weight= 'balanced')},\n",
    "         {'model_name':'Random Forest', 'instance':RandomForestClassifier(class_weight = 'balanced')}\n",
    "         ]\n",
    "\n",
    "sk1_val_model = {}\n",
    "\n",
    "for m in model:\n",
    "    score = get_score_cv(m['instance'], X_train_temp_cvec, Y_train_temp , cv=kfold)\n",
    "    print('model \\t\\t: ', m['model_name'])\n",
    "    print('val score \\t:',score['score'])\n",
    "    print('mean val sore \\t:',score['mean'])\n",
    "    print('\\n')\n",
    "\n",
    "    sk1_val_model[m['model_name']] = score['score'].tolist()"
   ]
  },
  {
   "cell_type": "code",
   "execution_count": null,
   "metadata": {
    "colab": {
     "base_uri": "https://localhost:8080/",
     "height": 173
    },
    "id": "T_qs-IxLU20b",
    "outputId": "16f97eb5-c13c-475e-82ae-9d4e617fb479"
   },
   "outputs": [
    {
     "data": {
      "text/html": [
       "<div>\n",
       "<style scoped>\n",
       "    .dataframe tbody tr th:only-of-type {\n",
       "        vertical-align: middle;\n",
       "    }\n",
       "\n",
       "    .dataframe tbody tr th {\n",
       "        vertical-align: top;\n",
       "    }\n",
       "\n",
       "    .dataframe thead th {\n",
       "        text-align: right;\n",
       "    }\n",
       "</style>\n",
       "<table border=\"1\" class=\"dataframe\">\n",
       "  <thead>\n",
       "    <tr style=\"text-align: right;\">\n",
       "      <th></th>\n",
       "      <th>1 Fold</th>\n",
       "      <th>2 Fold</th>\n",
       "      <th>3 Fold</th>\n",
       "      <th>4 Fold</th>\n",
       "      <th>5 Fold</th>\n",
       "      <th>6 Fold</th>\n",
       "      <th>7 Fold</th>\n",
       "      <th>8 Fold</th>\n",
       "      <th>9 Fold</th>\n",
       "      <th>10 Fold</th>\n",
       "      <th>average</th>\n",
       "    </tr>\n",
       "  </thead>\n",
       "  <tbody>\n",
       "    <tr>\n",
       "      <th>MultinomialNB</th>\n",
       "      <td>0.770370</td>\n",
       "      <td>0.807407</td>\n",
       "      <td>0.843284</td>\n",
       "      <td>0.805970</td>\n",
       "      <td>0.843284</td>\n",
       "      <td>0.798507</td>\n",
       "      <td>0.858209</td>\n",
       "      <td>0.843284</td>\n",
       "      <td>0.828358</td>\n",
       "      <td>0.880597</td>\n",
       "      <td>0.827927</td>\n",
       "    </tr>\n",
       "    <tr>\n",
       "      <th>SVM</th>\n",
       "      <td>0.822222</td>\n",
       "      <td>0.777778</td>\n",
       "      <td>0.835821</td>\n",
       "      <td>0.820896</td>\n",
       "      <td>0.850746</td>\n",
       "      <td>0.791045</td>\n",
       "      <td>0.820896</td>\n",
       "      <td>0.791045</td>\n",
       "      <td>0.783582</td>\n",
       "      <td>0.835821</td>\n",
       "      <td>0.812985</td>\n",
       "    </tr>\n",
       "    <tr>\n",
       "      <th>SGD</th>\n",
       "      <td>0.755556</td>\n",
       "      <td>0.755556</td>\n",
       "      <td>0.805970</td>\n",
       "      <td>0.768657</td>\n",
       "      <td>0.813433</td>\n",
       "      <td>0.761194</td>\n",
       "      <td>0.828358</td>\n",
       "      <td>0.783582</td>\n",
       "      <td>0.820896</td>\n",
       "      <td>0.843284</td>\n",
       "      <td>0.793648</td>\n",
       "    </tr>\n",
       "    <tr>\n",
       "      <th>Random Forest</th>\n",
       "      <td>0.829630</td>\n",
       "      <td>0.770370</td>\n",
       "      <td>0.828358</td>\n",
       "      <td>0.805970</td>\n",
       "      <td>0.850746</td>\n",
       "      <td>0.791045</td>\n",
       "      <td>0.798507</td>\n",
       "      <td>0.805970</td>\n",
       "      <td>0.783582</td>\n",
       "      <td>0.813433</td>\n",
       "      <td>0.807761</td>\n",
       "    </tr>\n",
       "  </tbody>\n",
       "</table>\n",
       "</div>"
      ],
      "text/plain": [
       "                 1 Fold    2 Fold    3 Fold  ...    9 Fold   10 Fold   average\n",
       "MultinomialNB  0.770370  0.807407  0.843284  ...  0.828358  0.880597  0.827927\n",
       "SVM            0.822222  0.777778  0.835821  ...  0.783582  0.835821  0.812985\n",
       "SGD            0.755556  0.755556  0.805970  ...  0.820896  0.843284  0.793648\n",
       "Random Forest  0.829630  0.770370  0.828358  ...  0.783582  0.813433  0.807761\n",
       "\n",
       "[4 rows x 11 columns]"
      ]
     },
     "execution_count": 58,
     "metadata": {
      "tags": []
     },
     "output_type": "execute_result"
    }
   ],
   "source": [
    "sk1_df_val = pd.DataFrame.from_dict(sk1_val_model, orient='index', columns=[f\"{i+1} Fold\" for i in range(0,kfold)])\n",
    "sk1_df_val['average'] = sk1_df_val.mean(axis=1)\n",
    "sk1_df_val"
   ]
  },
  {
   "cell_type": "markdown",
   "metadata": {
    "id": "E1b4TMRBxKeI"
   },
   "source": [
    "### Hyperparameter Tuning"
   ]
  },
  {
   "cell_type": "markdown",
   "metadata": {
    "id": "cD3VA97sxjh2"
   },
   "source": [
    "#### hyperparameter tuning for MultinomialNB"
   ]
  },
  {
   "cell_type": "code",
   "execution_count": null,
   "metadata": {
    "colab": {
     "base_uri": "https://localhost:8080/"
    },
    "id": "ubaDU4T82EHc",
    "outputId": "0625998a-859f-46d4-c429-fb85bd248de8"
   },
   "outputs": [
    {
     "name": "stdout",
     "output_type": "stream",
     "text": [
      "MultinomialNB(alpha=1, class_prior=None, fit_prior=True)\n"
     ]
    }
   ],
   "source": [
    "mnb_grid_params ={'alpha':[10**x for x in range(-4,4)]}\n",
    "mnb_alpha_log = [math.log(x,10) for x in mnb_grid_params[\"alpha\"]]\n",
    "\n",
    "sk1_mnb_tuning = GridSearchCV(MultinomialNB(), mnb_grid_params, scoring = 'accuracy', cv=10, n_jobs=-1, return_train_score=True)\n",
    "sk1_mnb_tuning.fit(X_train_temp_cvec, Y_train_temp)\n",
    "\n",
    "print(sk1_mnb_tuning.best_estimator_)"
   ]
  },
  {
   "cell_type": "markdown",
   "metadata": {
    "id": "OSr9Lx7lxj0s"
   },
   "source": [
    "#### hyperparameter tuning for SVM"
   ]
  },
  {
   "cell_type": "code",
   "execution_count": null,
   "metadata": {
    "colab": {
     "base_uri": "https://localhost:8080/"
    },
    "id": "4bXwTgyU2VgO",
    "outputId": "04c2822c-b744-4827-c4f6-c0c47414c479"
   },
   "outputs": [
    {
     "name": "stdout",
     "output_type": "stream",
     "text": [
      "SVC(C=10, break_ties=False, cache_size=200, class_weight=None, coef0=0.0,\n",
      "    decision_function_shape='ovr', degree=3, gamma=0.01, kernel='rbf',\n",
      "    max_iter=-1, probability=False, random_state=None, shrinking=True,\n",
      "    tol=0.001, verbose=False)\n"
     ]
    }
   ],
   "source": [
    "svm_param_grid = {\n",
    "    'C': [0.1, 1, 10, 100, 1000],  \n",
    "    'gamma': [1, 0.1, 0.01, 0.001, 0.0001], \n",
    "    'kernel': ['linear','rbf','sigmoid']\n",
    "}\n",
    "\n",
    "sk1_svm_tuning = GridSearchCV(SVC(), svm_param_grid, scoring = 'accuracy', cv=10, n_jobs=-1, return_train_score=True)\n",
    "sk1_svm_tuning.fit(X_train_temp_cvec, Y_train_temp)\n",
    "\n",
    "print(sk1_svm_tuning.best_estimator_)"
   ]
  },
  {
   "cell_type": "markdown",
   "metadata": {
    "id": "ONDZH32lxkyR"
   },
   "source": [
    "#### hyperparameter tuning for SGD"
   ]
  },
  {
   "cell_type": "code",
   "execution_count": null,
   "metadata": {
    "colab": {
     "base_uri": "https://localhost:8080/"
    },
    "id": "rm5VIMJc2rvS",
    "outputId": "c95e30d5-5f88-4f9c-f1c1-70f0693c580c"
   },
   "outputs": [
    {
     "name": "stdout",
     "output_type": "stream",
     "text": [
      "SGDClassifier(alpha=0.01, average=False, class_weight='balanced',\n",
      "              early_stopping=False, epsilon=0.1, eta0=0.0, fit_intercept=True,\n",
      "              l1_ratio=0.15, learning_rate='optimal', loss='hinge',\n",
      "              max_iter=1000, n_iter_no_change=5, n_jobs=None, penalty='l2',\n",
      "              power_t=0.5, random_state=None, shuffle=True, tol=0.001,\n",
      "              validation_fraction=0.1, verbose=0, warm_start=False)\n"
     ]
    }
   ],
   "source": [
    "sgd_alpha = [10**x for x in range(-4,4)]\n",
    "sgd_penalty = [\"l1\",\"l2\"]\n",
    "sgd_grid_params ={'alpha':sgd_alpha,'penalty':sgd_penalty}\n",
    "sgd_alpha_log = [math.log(x,10) for x in sgd_grid_params[\"alpha\"]]\n",
    "\n",
    "sk1_sgd_tuning = GridSearchCV(SGDClassifier(class_weight= 'balanced'), sgd_grid_params, scoring = 'accuracy', cv=10, n_jobs=-1, return_train_score=True)\n",
    "sk1_sgd_tuning.fit(X_train_temp_cvec, Y_train_temp)\n",
    "\n",
    "print(sk1_sgd_tuning.best_estimator_)"
   ]
  },
  {
   "cell_type": "markdown",
   "metadata": {
    "id": "J3iEth4rxlPJ"
   },
   "source": [
    "#### hyperparameter tuning for Random Forest"
   ]
  },
  {
   "cell_type": "code",
   "execution_count": null,
   "metadata": {
    "colab": {
     "base_uri": "https://localhost:8080/"
    },
    "id": "m0LR_nNw21y2",
    "outputId": "d3ad6765-5cbd-4613-e6ff-e54d34877f8b"
   },
   "outputs": [
    {
     "name": "stdout",
     "output_type": "stream",
     "text": [
      "RandomForestClassifier(bootstrap=True, ccp_alpha=0.0, class_weight='balanced',\n",
      "                       criterion='gini', max_depth=50, max_features='auto',\n",
      "                       max_leaf_nodes=None, max_samples=None,\n",
      "                       min_impurity_decrease=0.0, min_impurity_split=None,\n",
      "                       min_samples_leaf=1, min_samples_split=2,\n",
      "                       min_weight_fraction_leaf=0.0, n_estimators=100,\n",
      "                       n_jobs=None, oob_score=False, random_state=None,\n",
      "                       verbose=0, warm_start=False)\n"
     ]
    }
   ],
   "source": [
    "rf_max_depth = [1,5,10,50]\n",
    "rf_n_estimators = [5,10,100,500]\n",
    "rf_grid_params ={'max_depth':rf_max_depth,'n_estimators':rf_n_estimators}\n",
    "\n",
    "\n",
    "sk1_rf_tuning = GridSearchCV(RandomForestClassifier(class_weight = 'balanced'), rf_grid_params, scoring = 'accuracy', cv=10,n_jobs=-1, return_train_score=True)\n",
    "sk1_rf_tuning.fit(X_train_temp_cvec, Y_train_temp)\n",
    "\n",
    "\n",
    "print(sk1_rf_tuning.best_estimator_)"
   ]
  },
  {
   "cell_type": "markdown",
   "metadata": {
    "id": "pcDxs_grxV7X"
   },
   "source": [
    "### Final Test Data For Each Model"
   ]
  },
  {
   "cell_type": "code",
   "execution_count": null,
   "metadata": {
    "colab": {
     "base_uri": "https://localhost:8080/"
    },
    "id": "2mv7Jjkw3BHJ",
    "outputId": "0e7e3b1a-d21e-4b27-bd95-da5cdea384c8"
   },
   "outputs": [
    {
     "name": "stdout",
     "output_type": "stream",
     "text": [
      "model name \t:  MultinomialNB\n",
      "akurasi \t:  0.8090277777777778\n",
      "\n",
      "\n",
      "model name \t:  SVM\n",
      "akurasi \t:  0.8263888888888888\n",
      "\n",
      "\n",
      "model name \t:  SGD\n",
      "akurasi \t:  0.7934027777777778\n",
      "\n",
      "\n",
      "model name \t:  Random Forest\n",
      "akurasi \t:  0.8125\n",
      "\n",
      "\n"
     ]
    }
   ],
   "source": [
    "final_model = [\n",
    "               {'model_name':'MultinomialNB', 'instance':sk1_mnb_tuning},\n",
    "               {'model_name':'SVM', 'instance':sk1_svm_tuning},\n",
    "               {'model_name':'SGD', 'instance':sk1_sgd_tuning},\n",
    "               {'model_name':'Random Forest', 'instance':sk1_rf_tuning}\n",
    "]\n",
    "\n",
    "model_for_plot = []\n",
    "\n",
    "for final in final_model:\n",
    "    score_final = get_final_score(final['instance'], X_test_cvec, Y_test)\n",
    "    print('model name \\t: ', final['model_name'])\n",
    "    print('akurasi \\t: ', score_final)\n",
    "    print('\\n')\n",
    "\n",
    "    model_for_plot.append({'model name': f\"{final['model_name']}\", 'akurasi':np.round(score_final*100,3)})"
   ]
  },
  {
   "cell_type": "markdown",
   "metadata": {
    "id": "d3onb-gZ8b26"
   },
   "source": [
    "### Plot Akurasi dari Model Skenario 1"
   ]
  },
  {
   "cell_type": "code",
   "execution_count": null,
   "metadata": {
    "colab": {
     "base_uri": "https://localhost:8080/",
     "height": 355
    },
    "id": "vWUIvvsoEddB",
    "outputId": "70809876-5e08-46b4-91a8-f507c1d7294c"
   },
   "outputs": [
    {
     "data": {
      "image/png": "[encoded data removed]",
      "text/plain": [
       "<Figure size 432x288 with 1 Axes>"
      ]
     },
     "metadata": {
      "needs_background": "light",
      "tags": []
     },
     "output_type": "display_data"
    }
   ],
   "source": [
    "sk1_sorted_model = sorted(model_for_plot, key=lambda x: x['akurasi'], reverse=True)\n",
    "model_dict = {}\n",
    "for a in sk1_sorted_model:\n",
    "    model_dict[a.get('model name')] = a.get('akurasi')\n",
    "\n",
    "keys = model_dict.keys()\n",
    "values = model_dict.values()\n",
    "\n",
    "plt.bar(keys, values, color=['red', 'blue', 'purple', 'lavender'])\n",
    "plt.title('akurasi model pada skenario 1')\n",
    "plt.xlabel('Model')\n",
    "plt.ylabel('Akurasi')\n",
    "plt.xticks(rotation=60)\n",
    "plt.show()"
   ]
  },
  {
   "cell_type": "markdown",
   "metadata": {
    "id": "SgFYFbBEt4zP"
   },
   "source": [
    "## Skenario 2\n",
    "\n",
    "***full preprocessing dengan BOW-TFIDF***"
   ]
  },
  {
   "cell_type": "markdown",
   "metadata": {
    "id": "iHb-ruILBlg-"
   },
   "source": [
    "### TFIDF Vectorizer"
   ]
  },
  {
   "cell_type": "code",
   "execution_count": null,
   "metadata": {
    "id": "MZw3tYauBpMP"
   },
   "outputs": [],
   "source": [
    "tfidf_vectorizer = TfidfVectorizer()\n",
    "tfidf_vectorizer.fit(dfku['clean'])\n",
    "\n",
    "X_train_temp_vec = tfidf_vectorizer.transform(X_train_temp)\n",
    "X_test_vec = tfidf_vectorizer.transform(X_test)"
   ]
  },
  {
   "cell_type": "markdown",
   "metadata": {
    "id": "zQiQeoirCg-A"
   },
   "source": [
    "### Fit In Model\n",
    "\n",
    "model yang akan digunakan adalah **MultinomialNB, SVM, SGD, dan RandomForest**\n",
    "\n",
    "dengan BOW-TFIDF untuk task Binary Classification\n",
    "\n",
    "dengan scenario k-fold validation pada data training\n",
    "\n"
   ]
  },
  {
   "cell_type": "code",
   "execution_count": null,
   "metadata": {
    "colab": {
     "base_uri": "https://localhost:8080/"
    },
    "id": "n7e3LoCzDzyc",
    "outputId": "e1d524cd-3bc7-43ae-f414-c5c05e4a98a0"
   },
   "outputs": [
    {
     "name": "stdout",
     "output_type": "stream",
     "text": [
      "model \t\t:  MultinomialNB\n",
      "val score \t: [0.77037037 0.77777778 0.79850746 0.84328358 0.82835821 0.78358209\n",
      " 0.81343284 0.82835821 0.85074627 0.79850746]\n",
      "mean val sore \t: 0.8092924267551134\n",
      "\n",
      "\n",
      "model \t\t:  SVM\n",
      "val score \t: [0.82222222 0.78518519 0.85074627 0.82835821 0.85820896 0.80597015\n",
      " 0.82089552 0.81343284 0.8358209  0.84328358]\n",
      "mean val sore \t: 0.8264123825317855\n",
      "\n",
      "\n",
      "model \t\t:  SGD\n",
      "val score \t: [0.8        0.77037037 0.79850746 0.82089552 0.8358209  0.76119403\n",
      " 0.84328358 0.79850746 0.80597015 0.8880597 ]\n",
      "mean val sore \t: 0.812260917634052\n",
      "\n",
      "\n",
      "model \t\t:  Random Forest\n",
      "val score \t: [0.80740741 0.76296296 0.79850746 0.82835821 0.86567164 0.7761194\n",
      " 0.79850746 0.79104478 0.80597015 0.81343284]\n",
      "mean val sore \t: 0.8047982310668879\n",
      "\n",
      "\n"
     ]
    }
   ],
   "source": [
    "model = [{'model_name':'MultinomialNB','instance': MultinomialNB()}, \n",
    "         {'model_name':'SVM', 'instance':SVC()},\n",
    "         {'model_name':'SGD', 'instance':SGDClassifier(class_weight= 'balanced')},\n",
    "         {'model_name':'Random Forest', 'instance':RandomForestClassifier(class_weight = 'balanced')}\n",
    "         ]\n",
    "\n",
    "sk2_val_model = {}\n",
    "\n",
    "for m in model:\n",
    "    score = get_score_cv(m['instance'], X_train_temp_vec, Y_train_temp , cv=kfold)\n",
    "    print('model \\t\\t: ', m['model_name'])\n",
    "    print('val score \\t:',score['score'])\n",
    "    print('mean val sore \\t:',score['mean'])\n",
    "    print('\\n')\n",
    "\n",
    "    sk2_val_model[m['model_name']] = score['score'].tolist()"
   ]
  },
  {
   "cell_type": "code",
   "execution_count": null,
   "metadata": {
    "colab": {
     "base_uri": "https://localhost:8080/",
     "height": 173
    },
    "id": "HvwH0Xo0YiIr",
    "outputId": "239489cf-8ec9-445b-f002-01ad2cfbf506"
   },
   "outputs": [
    {
     "data": {
      "text/html": [
       "<div>\n",
       "<style scoped>\n",
       "    .dataframe tbody tr th:only-of-type {\n",
       "        vertical-align: middle;\n",
       "    }\n",
       "\n",
       "    .dataframe tbody tr th {\n",
       "        vertical-align: top;\n",
       "    }\n",
       "\n",
       "    .dataframe thead th {\n",
       "        text-align: right;\n",
       "    }\n",
       "</style>\n",
       "<table border=\"1\" class=\"dataframe\">\n",
       "  <thead>\n",
       "    <tr style=\"text-align: right;\">\n",
       "      <th></th>\n",
       "      <th>1 Fold</th>\n",
       "      <th>2 Fold</th>\n",
       "      <th>3 Fold</th>\n",
       "      <th>4 Fold</th>\n",
       "      <th>5 Fold</th>\n",
       "      <th>6 Fold</th>\n",
       "      <th>7 Fold</th>\n",
       "      <th>8 Fold</th>\n",
       "      <th>9 Fold</th>\n",
       "      <th>10 Fold</th>\n",
       "      <th>average</th>\n",
       "    </tr>\n",
       "  </thead>\n",
       "  <tbody>\n",
       "    <tr>\n",
       "      <th>MultinomialNB</th>\n",
       "      <td>0.770370</td>\n",
       "      <td>0.777778</td>\n",
       "      <td>0.798507</td>\n",
       "      <td>0.843284</td>\n",
       "      <td>0.828358</td>\n",
       "      <td>0.783582</td>\n",
       "      <td>0.813433</td>\n",
       "      <td>0.828358</td>\n",
       "      <td>0.850746</td>\n",
       "      <td>0.798507</td>\n",
       "      <td>0.809292</td>\n",
       "    </tr>\n",
       "    <tr>\n",
       "      <th>SVM</th>\n",
       "      <td>0.822222</td>\n",
       "      <td>0.785185</td>\n",
       "      <td>0.850746</td>\n",
       "      <td>0.828358</td>\n",
       "      <td>0.858209</td>\n",
       "      <td>0.805970</td>\n",
       "      <td>0.820896</td>\n",
       "      <td>0.813433</td>\n",
       "      <td>0.835821</td>\n",
       "      <td>0.843284</td>\n",
       "      <td>0.826412</td>\n",
       "    </tr>\n",
       "    <tr>\n",
       "      <th>SGD</th>\n",
       "      <td>0.800000</td>\n",
       "      <td>0.770370</td>\n",
       "      <td>0.798507</td>\n",
       "      <td>0.820896</td>\n",
       "      <td>0.835821</td>\n",
       "      <td>0.761194</td>\n",
       "      <td>0.843284</td>\n",
       "      <td>0.798507</td>\n",
       "      <td>0.805970</td>\n",
       "      <td>0.888060</td>\n",
       "      <td>0.812261</td>\n",
       "    </tr>\n",
       "    <tr>\n",
       "      <th>Random Forest</th>\n",
       "      <td>0.807407</td>\n",
       "      <td>0.762963</td>\n",
       "      <td>0.798507</td>\n",
       "      <td>0.828358</td>\n",
       "      <td>0.865672</td>\n",
       "      <td>0.776119</td>\n",
       "      <td>0.798507</td>\n",
       "      <td>0.791045</td>\n",
       "      <td>0.805970</td>\n",
       "      <td>0.813433</td>\n",
       "      <td>0.804798</td>\n",
       "    </tr>\n",
       "  </tbody>\n",
       "</table>\n",
       "</div>"
      ],
      "text/plain": [
       "                 1 Fold    2 Fold    3 Fold  ...    9 Fold   10 Fold   average\n",
       "MultinomialNB  0.770370  0.777778  0.798507  ...  0.850746  0.798507  0.809292\n",
       "SVM            0.822222  0.785185  0.850746  ...  0.835821  0.843284  0.826412\n",
       "SGD            0.800000  0.770370  0.798507  ...  0.805970  0.888060  0.812261\n",
       "Random Forest  0.807407  0.762963  0.798507  ...  0.805970  0.813433  0.804798\n",
       "\n",
       "[4 rows x 11 columns]"
      ]
     },
     "execution_count": 57,
     "metadata": {
      "tags": []
     },
     "output_type": "execute_result"
    }
   ],
   "source": [
    "sk2_df_val = pd.DataFrame.from_dict(sk2_val_model, orient='index', columns=[f\"{i+1} Fold\" for i in range(0,kfold)])\n",
    "sk2_df_val['average'] = sk2_df_val.mean(axis=1)\n",
    "sk2_df_val"
   ]
  },
  {
   "cell_type": "markdown",
   "metadata": {
    "id": "e8ylW2sBGFZp"
   },
   "source": [
    "\n",
    "### Hyperparameter Tuning\n",
    "\n",
    "hyperparameter tuning untuk setiap model agar mendapatkan parameter terbaik\n",
    "\n"
   ]
  },
  {
   "cell_type": "markdown",
   "metadata": {
    "id": "O6WPaDbWKdmx"
   },
   "source": [
    "#### hyperparameter tuning for MultinomialNB"
   ]
  },
  {
   "cell_type": "code",
   "execution_count": null,
   "metadata": {
    "colab": {
     "base_uri": "https://localhost:8080/"
    },
    "id": "DjPGodW3Mr3K",
    "outputId": "83a20f48-4211-4d33-ff70-325269a0dfd9"
   },
   "outputs": [
    {
     "name": "stdout",
     "output_type": "stream",
     "text": [
      "MultinomialNB(alpha=0.1, class_prior=None, fit_prior=True)\n"
     ]
    }
   ],
   "source": [
    "mnb_grid_params ={'alpha':[10**x for x in range(-4,4)]}\n",
    "mnb_alpha_log = [math.log(x,10) for x in mnb_grid_params[\"alpha\"]]\n",
    "\n",
    "mnb_tuning = GridSearchCV(MultinomialNB(), mnb_grid_params, scoring = 'accuracy', cv=10, n_jobs=-1, return_train_score=True)\n",
    "mnb_tuning.fit(X_train_temp_vec, Y_train_temp)\n",
    "\n",
    "print(mnb_tuning.best_estimator_)"
   ]
  },
  {
   "cell_type": "markdown",
   "metadata": {
    "id": "12fXB_D2L-OI"
   },
   "source": [
    "#### hyperparameter tuning for SVM\n"
   ]
  },
  {
   "cell_type": "code",
   "execution_count": null,
   "metadata": {
    "colab": {
     "base_uri": "https://localhost:8080/"
    },
    "id": "cvj3rL6bPtxx",
    "outputId": "3d9c54a0-2c56-4468-f0ec-cfc45f94f565"
   },
   "outputs": [
    {
     "name": "stdout",
     "output_type": "stream",
     "text": [
      "SVC(C=10, break_ties=False, cache_size=200, class_weight=None, coef0=0.0,\n",
      "    decision_function_shape='ovr', degree=3, gamma=1, kernel='rbf', max_iter=-1,\n",
      "    probability=False, random_state=None, shrinking=True, tol=0.001,\n",
      "    verbose=False)\n"
     ]
    }
   ],
   "source": [
    "svm_param_grid = {\n",
    "    'C': [0.1, 1, 10, 100, 1000],  \n",
    "    'gamma': [1, 0.1, 0.01, 0.001, 0.0001], \n",
    "    'kernel': ['linear','rbf','sigmoid']\n",
    "}\n",
    "\n",
    "svm_tuning = GridSearchCV(SVC(), svm_param_grid, scoring = 'accuracy', cv=10, n_jobs=-1, return_train_score=True)\n",
    "svm_tuning.fit(X_train_temp_vec, Y_train_temp)\n",
    "\n",
    "print(svm_tuning.best_estimator_)"
   ]
  },
  {
   "cell_type": "markdown",
   "metadata": {
    "id": "zlGaDZm1MDJ2"
   },
   "source": [
    "#### hyperparameter tuning for for SGD"
   ]
  },
  {
   "cell_type": "code",
   "execution_count": null,
   "metadata": {
    "colab": {
     "base_uri": "https://localhost:8080/"
    },
    "id": "D6XAeEH-Nq9F",
    "outputId": "bbbf7e2e-83af-40dd-dc6f-ca38b7410652"
   },
   "outputs": [
    {
     "name": "stdout",
     "output_type": "stream",
     "text": [
      "SGDClassifier(alpha=0.001, average=False, class_weight='balanced',\n",
      "              early_stopping=False, epsilon=0.1, eta0=0.0, fit_intercept=True,\n",
      "              l1_ratio=0.15, learning_rate='optimal', loss='hinge',\n",
      "              max_iter=1000, n_iter_no_change=5, n_jobs=None, penalty='l2',\n",
      "              power_t=0.5, random_state=None, shuffle=True, tol=0.001,\n",
      "              validation_fraction=0.1, verbose=0, warm_start=False)\n"
     ]
    }
   ],
   "source": [
    "sgd_alpha = [10**x for x in range(-4,4)]\n",
    "sgd_penalty = [\"l1\",\"l2\"]\n",
    "sgd_grid_params ={'alpha':sgd_alpha,'penalty':sgd_penalty}\n",
    "sgd_alpha_log = [math.log(x,10) for x in sgd_grid_params[\"alpha\"]]\n",
    "\n",
    "sgd_tuning = GridSearchCV(SGDClassifier(class_weight= 'balanced'), sgd_grid_params, scoring = 'accuracy', cv=10, n_jobs=-1, return_train_score=True)\n",
    "sgd_tuning.fit(X_train_temp_vec, Y_train_temp)\n",
    "\n",
    "print(sgd_tuning.best_estimator_)"
   ]
  },
  {
   "cell_type": "markdown",
   "metadata": {
    "id": "Y2V5lmaGMImm"
   },
   "source": [
    "#### hyperparameter tuning for RandomForest"
   ]
  },
  {
   "cell_type": "code",
   "execution_count": null,
   "metadata": {
    "colab": {
     "base_uri": "https://localhost:8080/"
    },
    "id": "oLRYsmkyMLD4",
    "outputId": "fab5409b-233d-43c3-a315-eeb98df15387"
   },
   "outputs": [
    {
     "name": "stdout",
     "output_type": "stream",
     "text": [
      "RandomForestClassifier(bootstrap=True, ccp_alpha=0.0, class_weight='balanced',\n",
      "                       criterion='gini', max_depth=50, max_features='auto',\n",
      "                       max_leaf_nodes=None, max_samples=None,\n",
      "                       min_impurity_decrease=0.0, min_impurity_split=None,\n",
      "                       min_samples_leaf=1, min_samples_split=2,\n",
      "                       min_weight_fraction_leaf=0.0, n_estimators=500,\n",
      "                       n_jobs=None, oob_score=False, random_state=None,\n",
      "                       verbose=0, warm_start=False)\n"
     ]
    }
   ],
   "source": [
    "rf_max_depth = [1,5,10,50]\n",
    "rf_n_estimators = [5,10,100,500]\n",
    "rf_grid_params ={'max_depth':rf_max_depth,'n_estimators':rf_n_estimators}\n",
    "\n",
    "\n",
    "rf_tuning = GridSearchCV(RandomForestClassifier(class_weight = 'balanced'), rf_grid_params, scoring = 'accuracy', cv=10,n_jobs=-1, return_train_score=True)\n",
    "rf_tuning.fit(X_train_temp_vec, Y_train_temp)\n",
    "\n",
    "\n",
    "print(rf_tuning.best_estimator_)"
   ]
  },
  {
   "cell_type": "markdown",
   "metadata": {
    "id": "f4WOhP93RhBl"
   },
   "source": [
    "### Final Test Data For Each Model\n",
    "\n",
    "model yang telah dituning diujikan dengan data test serta di cari nilai akurasinya"
   ]
  },
  {
   "cell_type": "code",
   "execution_count": null,
   "metadata": {
    "colab": {
     "base_uri": "https://localhost:8080/"
    },
    "id": "CXzRvfYmT9CL",
    "outputId": "ff62c0f1-fe62-48e9-be3f-c0eb81368241"
   },
   "outputs": [
    {
     "name": "stdout",
     "output_type": "stream",
     "text": [
      "model name \t:  MultinomialNB\n",
      "akurasi \t:  0.8003472222222222\n",
      "\n",
      "\n",
      "model name \t:  SVM\n",
      "akurasi \t:  0.8402777777777778\n",
      "\n",
      "\n",
      "model name \t:  SGD\n",
      "akurasi \t:  0.8055555555555556\n",
      "\n",
      "\n",
      "model name \t:  Random Forest\n",
      "akurasi \t:  0.8090277777777778\n",
      "\n",
      "\n"
     ]
    }
   ],
   "source": [
    "final_model = [\n",
    "               {'model_name':'MultinomialNB', 'instance':mnb_tuning},\n",
    "               {'model_name':'SVM', 'instance':svm_tuning},\n",
    "               {'model_name':'SGD', 'instance':sgd_tuning},\n",
    "               {'model_name':'Random Forest', 'instance':rf_tuning}\n",
    "]\n",
    "\n",
    "sk2_model_for_plot = []\n",
    "\n",
    "for final in final_model:\n",
    "    score_final = get_final_score(final['instance'], X_test_vec, Y_test)\n",
    "    print('model name \\t: ', final['model_name'])\n",
    "    print('akurasi \\t: ', score_final)\n",
    "    print('\\n')\n",
    "\n",
    "    sk2_model_for_plot.append({'model name': f\"{final['model_name']}\", 'akurasi':np.round(score_final*100,3)})"
   ]
  },
  {
   "cell_type": "markdown",
   "metadata": {
    "id": "C129fXwnHzRp"
   },
   "source": [
    "### Plot Akurasi dari Model Skenario 2"
   ]
  },
  {
   "cell_type": "code",
   "execution_count": null,
   "metadata": {
    "colab": {
     "base_uri": "https://localhost:8080/",
     "height": 355
    },
    "id": "oknTQPApHg0P",
    "outputId": "23c1af31-70b2-4359-c40c-6ab2c6cf657c"
   },
   "outputs": [
    {
     "data": {
      "image/png": "[encoded data removed]",
      "text/plain": [
       "<Figure size 432x288 with 1 Axes>"
      ]
     },
     "metadata": {
      "needs_background": "light",
      "tags": []
     },
     "output_type": "display_data"
    }
   ],
   "source": [
    "sk2_sorted_model = sorted(sk2_model_for_plot, key=lambda x: x['akurasi'], reverse=True)\n",
    "model_dict = {}\n",
    "for a in sk2_sorted_model:\n",
    "    model_dict[a.get('model name')] = a.get('akurasi')\n",
    "\n",
    "keys = model_dict.keys()\n",
    "values = model_dict.values()\n",
    "\n",
    "plt.bar(keys, values, color=['red', 'blue', 'purple', 'lavender'])\n",
    "plt.title('akurasi model pada skenario 2')\n",
    "plt.xlabel('Model')\n",
    "plt.ylabel('Akurasi')\n",
    "plt.xticks(rotation=60)\n",
    "plt.show()"
   ]
  },
  {
   "cell_type": "markdown",
   "metadata": {
    "id": "hcRJFoLqVDDx"
   },
   "source": [
    "# Conclusion"
   ]
  },
  {
   "cell_type": "markdown",
   "metadata": {
    "id": "A7vBMeKgu8mv"
   },
   "source": [
    "dari hasil experiment yang telah dilakukan pada 2 skenario yaitu:\n",
    "\n",
    "1. skenario 1 (preprocessing + bow-tf)\n",
    "2. skenario 2 (preprocessing + bow-tfidf)\n",
    "\n",
    "dengan beberapa classifier seperti **MultinomialNB, SVM, SGD, dan Random Forest** serta menggunakan 10 fold validation pada data training lalu diujikan dengan data test diperoleh bahwa:\n",
    "\n",
    "performa terbaik terjadi pada **skenario 2** dengan classifier terbaik adalah **SVM** dengan nilai akurasi yang didapatkan sebesar 84.028%\n",
    "\n",
    "hasil ini menunjukan improvisasi sebesar 2% dari model paper (Prastyo dkk., 2020) dimana model terbaiknya menghasilkan akurasi sebesar 82.00%. \n",
    "\n"
   ]
  },
  {
   "cell_type": "markdown",
   "metadata": {
    "id": "Ti0ocEygb3tJ"
   },
   "source": [
    "## Classifier Report\n",
    "\n",
    "laporan metric evaluasi pada SVM classifier"
   ]
  },
  {
   "cell_type": "code",
   "execution_count": null,
   "metadata": {
    "colab": {
     "base_uri": "https://localhost:8080/",
     "height": 173
    },
    "id": "ez0aQbXGlQjv",
    "outputId": "af8fa2f7-65a1-4daa-b728-3421f8d9e434"
   },
   "outputs": [
    {
     "data": {
      "text/html": [
       "<div>\n",
       "<style scoped>\n",
       "    .dataframe tbody tr th:only-of-type {\n",
       "        vertical-align: middle;\n",
       "    }\n",
       "\n",
       "    .dataframe tbody tr th {\n",
       "        vertical-align: top;\n",
       "    }\n",
       "\n",
       "    .dataframe thead th {\n",
       "        text-align: right;\n",
       "    }\n",
       "</style>\n",
       "<table border=\"1\" class=\"dataframe\">\n",
       "  <thead>\n",
       "    <tr style=\"text-align: right;\">\n",
       "      <th></th>\n",
       "      <th>metric</th>\n",
       "      <th>value</th>\n",
       "    </tr>\n",
       "  </thead>\n",
       "  <tbody>\n",
       "    <tr>\n",
       "      <th>0</th>\n",
       "      <td>akurasi</td>\n",
       "      <td>0.840278</td>\n",
       "    </tr>\n",
       "    <tr>\n",
       "      <th>1</th>\n",
       "      <td>precision</td>\n",
       "      <td>0.791506</td>\n",
       "    </tr>\n",
       "    <tr>\n",
       "      <th>2</th>\n",
       "      <td>recall</td>\n",
       "      <td>0.843621</td>\n",
       "    </tr>\n",
       "    <tr>\n",
       "      <th>3</th>\n",
       "      <td>f1</td>\n",
       "      <td>0.816733</td>\n",
       "    </tr>\n",
       "  </tbody>\n",
       "</table>\n",
       "</div>"
      ],
      "text/plain": [
       "      metric     value\n",
       "0    akurasi  0.840278\n",
       "1  precision  0.791506\n",
       "2     recall  0.843621\n",
       "3         f1  0.816733"
      ]
     },
     "execution_count": 75,
     "metadata": {
      "tags": []
     },
     "output_type": "execute_result"
    }
   ],
   "source": [
    "svm_score = get_final_score(svm_tuning, X_test_vec, Y_test, all_score=True)\n",
    "pd.DataFrame(list(svm_score.items()), columns=['metric', 'value'])"
   ]
  },
  {
   "cell_type": "markdown",
   "metadata": {
    "id": "WVX3eEDrb8Pa"
   },
   "source": [
    "## Confusion Matrix"
   ]
  },
  {
   "cell_type": "code",
   "execution_count": null,
   "metadata": {
    "colab": {
     "base_uri": "https://localhost:8080/",
     "height": 279
    },
    "id": "YIi1Vtd-b-sL",
    "outputId": "4c891b19-b866-4e4d-f926-ac7bab984316"
   },
   "outputs": [
    {
     "data": {
      "image/png": "[encoded data removed]",
      "text/plain": [
       "<Figure size 432x288 with 2 Axes>"
      ]
     },
     "metadata": {
      "needs_background": "light",
      "tags": []
     },
     "output_type": "display_data"
    }
   ],
   "source": [
    "plot_confusion_matrix(svm_tuning, X_test_vec, Y_test, values_format = '.0f', cmap=plt.cm.Blues)\n",
    "plt.show()"
   ]
  },
  {
   "cell_type": "code",
   "execution_count": null,
   "metadata": {
    "id": "RYk0WEe1c4rs"
   },
   "outputs": [],
   "source": []
  }
 ],
 "metadata": {
  "colab": {
   "collapsed_sections": [],
   "name": "Tugas Akhir Pengpol.ipynb",
   "provenance": [],
   "toc_visible": true
  },
  "kernelspec": {
   "display_name": "Python 3",
   "language": "python",
   "name": "python3"
  },
  "language_info": {
   "codemirror_mode": {
    "name": "ipython",
    "version": 3
   },
   "file_extension": ".py",
   "mimetype": "text/x-python",
   "name": "python",
   "nbconvert_exporter": "python",
   "pygments_lexer": "ipython3",
   "version": "3.7.10"
  }
 },
 "nbformat": 4,
 "nbformat_minor": 1
}
